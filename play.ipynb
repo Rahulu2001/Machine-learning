{
 "cells": [
  {
   "cell_type": "code",
   "execution_count": 4,
   "id": "6aa385af",
   "metadata": {},
   "outputs": [],
   "source": [
    "import pandas as pd\n",
    "import numpy as np\n",
    "dt= pd.read_csv(\"play.csv\")"
   ]
  },
  {
   "cell_type": "code",
   "execution_count": 2,
   "id": "8e7c80aa",
   "metadata": {},
   "outputs": [
    {
     "name": "stdout",
     "output_type": "stream",
     "text": [
      "     sky airtemp humidity    wind water forecast enjoy\n",
      "0  sunny    warm   normal  strong  warm     same   yes\n",
      "1  sunny    warm     high  strong  warm     same   yes\n",
      "2  rainy    cold     high  strong  warm   change    no\n",
      "3  sunny    warm     high  strong  cool   change   yes\n"
     ]
    }
   ],
   "source": [
    "print(dt)"
   ]
  },
  {
   "cell_type": "code",
   "execution_count": 6,
   "id": "7d66909e",
   "metadata": {},
   "outputs": [
    {
     "name": "stdout",
     "output_type": "stream",
     "text": [
      "[['sunny' 'warm' 'normal' 'strong' 'warm' 'same']\n",
      " ['sunny' 'warm' 'high' 'strong' 'warm' 'same']\n",
      " ['rainy' 'cold' 'high' 'strong' 'warm' 'change']\n",
      " ['sunny' 'warm' 'high' 'strong' 'cool' 'change']]\n"
     ]
    }
   ],
   "source": [
    "conc=np.array(dt)[:,:-1]\n",
    "print(conc)"
   ]
  },
  {
   "cell_type": "code",
   "execution_count": 7,
   "id": "501d917d",
   "metadata": {},
   "outputs": [
    {
     "name": "stdout",
     "output_type": "stream",
     "text": [
      "[['yes']\n",
      " ['yes']\n",
      " ['no']\n",
      " ['yes']]\n"
     ]
    }
   ],
   "source": [
    "tar=np.array(dt)[:,-1:]\n",
    "print(tar)"
   ]
  },
  {
   "cell_type": "code",
   "execution_count": 16,
   "id": "f2da99ae",
   "metadata": {},
   "outputs": [
    {
     "name": "stdout",
     "output_type": "stream",
     "text": [
      "the maximal specific hypothesis is \n",
      "['sunny' 'warm' '?' 'strong' '?' '?']\n",
      "None\n"
     ]
    }
   ],
   "source": [
    "def finds(tar,conc):\n",
    "    for i ,val in enumerate(tar):\n",
    "        if val=='yes':\n",
    "            spec=conc[i]\n",
    "            break;\n",
    "    for i,val in enumerate(conc):\n",
    "        if tar[i]=='yes':\n",
    "            for x in range (len(spec)):\n",
    "                if val[x]!=spec[x]:\n",
    "                    spec[x]='?'\n",
    "                else:\n",
    "                         pass \n",
    "    print(spec)\n",
    "    \n",
    "print(\"the maximal specific hypothesis is \")\n",
    "\n",
    "print(finds(tar,conc))"
   ]
  },
  {
   "cell_type": "code",
   "execution_count": null,
   "id": "384ebafd",
   "metadata": {},
   "outputs": [],
   "source": []
  }
 ],
 "metadata": {
  "kernelspec": {
   "display_name": "Python 3 (ipykernel)",
   "language": "python",
   "name": "python3"
  },
  "language_info": {
   "codemirror_mode": {
    "name": "ipython",
    "version": 3
   },
   "file_extension": ".py",
   "mimetype": "text/x-python",
   "name": "python",
   "nbconvert_exporter": "python",
   "pygments_lexer": "ipython3",
   "version": "3.9.7"
  }
 },
 "nbformat": 4,
 "nbformat_minor": 5
}
